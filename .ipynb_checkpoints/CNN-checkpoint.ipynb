{
 "cells": [
  {
   "cell_type": "code",
   "execution_count": null,
   "metadata": {},
   "outputs": [],
   "source": [
    "#I commenti al codice sono inserinti con in mente un'esposizione dello stesso agli umanisti,\n",
    "#e l'idea di rendere il codice quantopiù possibile leggibile anche per loro\n",
    "\n",
    "#Useful libraries\n",
    "import tensorflow as tf\n",
    "import numpy as np\n",
    "import matplotlib.pyplot as plt\n",
    "from tensorflow.keras import datasets, layers, models\n",
    "\n",
    "#Database acquisition\n",
    "fashion_mnist = tf.keras.datasets.fashion_mnist\n",
    "\n",
    "#Data separation into images and labels for training set and test set\n",
    "(train_images, train_labels), (test_images, test_labels) = fashion_mnist.load_data()\n",
    "\n",
    "#No more than one label is assigned to every single image\n",
    "class_names = ['T-shirt/top', 'Trouser', 'Pullover', 'Dress', 'Coat', 'Sandal', 'Shirt', 'Sneaker', 'Bag', 'Ankle boot']\n",
    "\n",
    "#Rescaling the data. Images colors are store in a 0-to-255 value range, whereas we need them to be 0-to-1 to work with this code\n",
    "train_images = train_images / 255.0\n",
    "test_images = test_images / 255.0"
   ]
  },
  {
   "cell_type": "code",
   "execution_count": null,
   "metadata": {},
   "outputs": [],
   "source": [
    "plt.figure(figsize=(10,10))\n",
    "for i in range(25):\n",
    "    plt.subplot(5,5,i+1)\n",
    "    plt.xticks([])\n",
    "    plt.yticks([])\n",
    "    plt.grid(False)\n",
    "    plt.imshow(train_images[i], cmap=plt.cm.binary)\n",
    "    plt.xlabel(class_names[train_labels[i]])\n",
    "plt.show()"
   ]
  },
  {
   "cell_type": "code",
   "execution_count": null,
   "metadata": {},
   "outputs": [],
   "source": [
    "#Creating our model layer by layer\n",
    "model = models.Sequential()\n",
    "model.add(layers.Conv1D(32, (3), activation='relu', input_shape=(28, 28)))\n",
    "model.add(layers.MaxPooling1D((2)))\n",
    "model.add(layers.Conv1D(64, (3), activation='relu'))\n",
    "model.add(layers.MaxPooling1D((2)))\n",
    "model.add(layers.Conv1D(64, (3), activation='relu'))\n",
    "model.add(layers.Flatten())\n",
    "model.add(layers.Dense(64, activation='relu'))\n",
    "model.add(layers.Dense(10, activation='softmax'))"
   ]
  },
  {
   "cell_type": "code",
   "execution_count": null,
   "metadata": {},
   "outputs": [],
   "source": [
    "#Packing everything together\n",
    "model.compile(optimizer='adam', #The method to determine how the net adjusts to results\n",
    "              loss=tf.keras.losses.SparseCategoricalCrossentropy(from_logits=True), #The loss function\n",
    "              metrics=['accuracy'])\n",
    "\n",
    "#Let's see our model\n",
    "model.summary()"
   ]
  },
  {
   "cell_type": "code",
   "execution_count": null,
   "metadata": {},
   "outputs": [],
   "source": [
    "#Training time!\n",
    "history = model.fit(train_images, train_labels, epochs=10, validation_data=(test_images, test_labels))"
   ]
  },
  {
   "cell_type": "code",
   "execution_count": null,
   "metadata": {},
   "outputs": [],
   "source": [
    "#Le ultime 2 celle possono essere rieseguite a oltranza per proseguire l'addestramento fino all'overfit"
   ]
  }
 ],
 "metadata": {
  "kernelspec": {
   "display_name": "Python 3",
   "language": "python",
   "name": "python3"
  },
  "language_info": {
   "codemirror_mode": {
    "name": "ipython",
    "version": 3
   },
   "file_extension": ".py",
   "mimetype": "text/x-python",
   "name": "python",
   "nbconvert_exporter": "python",
   "pygments_lexer": "ipython3",
   "version": "3.7.3"
  }
 },
 "nbformat": 4,
 "nbformat_minor": 2
}
